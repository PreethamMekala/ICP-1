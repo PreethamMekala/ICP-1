{
  "nbformat": 4,
  "nbformat_minor": 0,
  "metadata": {
    "colab": {
      "provenance": [],
      "authorship_tag": "ABX9TyMkUdZIlnjbHQhhQxfxjm4j",
      "include_colab_link": true
    },
    "kernelspec": {
      "name": "python3",
      "display_name": "Python 3"
    },
    "language_info": {
      "name": "python"
    }
  },
  "cells": [
    {
      "cell_type": "markdown",
      "metadata": {
        "id": "view-in-github",
        "colab_type": "text"
      },
      "source": [
        "<a href=\"https://colab.research.google.com/github/PreethamMekala/ICP-1/blob/main/ICP_1.ipynb\" target=\"_parent\"><img src=\"https://colab.research.google.com/assets/colab-badge.svg\" alt=\"Open In Colab\"/></a>"
      ]
    },
    {
      "cell_type": "code",
      "execution_count": 11,
      "metadata": {
        "colab": {
          "base_uri": "https://localhost:8080/"
        },
        "id": "Vb5vyDONSq_U",
        "outputId": "b7257c50-5ad3-4bde-8eea-c7434711626a"
      },
      "outputs": [
        {
          "output_type": "stream",
          "name": "stdout",
          "text": [
            "nhty\n"
          ]
        }
      ],
      "source": [
        "word = list(\"Python\")\n",
        "word.remove('P')\n",
        "word.remove('o')\n",
        "word.reverse()\n",
        "reversed_word = ''.join(word)\n",
        "print(reversed_word)\n"
      ]
    },
    {
      "cell_type": "code",
      "source": [
        "a = float(input(\"Enter the first number: \"))\n",
        "b = float(input(\"Enter the second number: \"))\n",
        "addition = a + b\n",
        "subtraction = a - b\n",
        "multiplication = a * b\n",
        "division = a / b if b != 0 else \"Undefined (division by zero)\"\n",
        "print(f\"Addition: {addition}\")\n",
        "print(f\"Subtraction: {subtraction}\")\n",
        "print(f\"Multiplication: {multiplication}\")\n",
        "print(f\"Division: {division}\")\n"
      ],
      "metadata": {
        "colab": {
          "base_uri": "https://localhost:8080/"
        },
        "id": "qjJNrKUSUMwb",
        "outputId": "fc8de99f-b577-4451-b224-2c2800240dee"
      },
      "execution_count": 2,
      "outputs": [
        {
          "output_type": "stream",
          "name": "stdout",
          "text": [
            "Enter the first number: 2.0\n",
            "Enter the second number: 1.0\n",
            "Addition: 3.0\n",
            "Subtraction: 1.0\n",
            "Multiplication: 2.0\n",
            "Division: 2.0\n"
          ]
        }
      ]
    },
    {
      "cell_type": "code",
      "source": [
        "sentence = input(\"Enter a sentence: \")\n",
        "modified_sentence = sentence.replace('python', 'pythons')\n",
        "print(modified_sentence)\n"
      ],
      "metadata": {
        "colab": {
          "base_uri": "https://localhost:8080/"
        },
        "id": "kHbjSAVXUr5_",
        "outputId": "96e4ee10-2a63-4db4-ba03-dec49dae80cd"
      },
      "execution_count": 6,
      "outputs": [
        {
          "output_type": "stream",
          "name": "stdout",
          "text": [
            "Enter a sentence: I dance with python\n",
            "I dance with pythons\n"
          ]
        }
      ]
    },
    {
      "cell_type": "code",
      "source": [
        "score = float(input(\"Enter the class score (0-100): \"))\n",
        "if score >= 90:\n",
        "    grade = 'A'\n",
        "elif score >= 80:\n",
        "    grade = 'B'\n",
        "elif score >= 70:\n",
        "    grade = 'C'\n",
        "elif score >= 60:\n",
        "    grade = 'D'\n",
        "else:\n",
        "    grade = 'F'\n",
        "print(f\"The grade is: {grade}\")\n"
      ],
      "metadata": {
        "colab": {
          "base_uri": "https://localhost:8080/"
        },
        "id": "IS0Jk1oJVESR",
        "outputId": "891a13a5-4c54-4d92-cc83-c57bd58a129d"
      },
      "execution_count": 7,
      "outputs": [
        {
          "output_type": "stream",
          "name": "stdout",
          "text": [
            "Enter the class score (0-100): 94\n",
            "The grade is: A\n"
          ]
        }
      ]
    },
    {
      "cell_type": "code",
      "source": [
        "x = [23, 'Python', 23.98]\n",
        "types = [type(i) for i in x]\n",
        "print(x)\n",
        "print(types)\n"
      ],
      "metadata": {
        "colab": {
          "base_uri": "https://localhost:8080/"
        },
        "id": "C_S2zkoaVUE1",
        "outputId": "a0df52c3-c541-4bfa-d133-9e74521806c3"
      },
      "execution_count": 8,
      "outputs": [
        {
          "output_type": "stream",
          "name": "stdout",
          "text": [
            "[23, 'Python', 23.98]\n",
            "[<class 'int'>, <class 'str'>, <class 'float'>]\n"
          ]
        }
      ]
    },
    {
      "cell_type": "code",
      "source": [
        "IT_companies = {'Facebook', 'Google', 'Microsoft', 'Apple', 'IBM', 'Oracle', 'Amazon'}\n",
        "A = {19, 22, 24, 20, 25, 26}\n",
        "B = {19, 22, 20, 25, 26, 24, 28, 27}\n",
        "age = [22, 19, 24, 25, 26, 24, 25, 24]\n",
        "print(f\"Length of IT_companies: {len(IT_companies)}\")\n",
        "IT_companies.add('Twitter')\n",
        "IT_companies.update(['Netflix', 'LinkedIn'])\n",
        "IT_companies.remove('Apple')\n",
        "C = A.union(B)\n",
        "intersection = A.intersection(B)\n",
        "is_subset = A.issubset(B)\n",
        "are_disjoint = A.isdisjoint(B)\n",
        "A_and_B = A | B\n",
        "B_and_A = B | A\n",
        "symmetric_diff = A.symmetric_difference(B)\n",
        "del A\n",
        "del B\n",
        "age_set = set(age)\n",
        "print(f\"Length of age list: {len(age)}\")\n",
        "print(f\"Length of age set: {len(age_set)}\")\n"
      ],
      "metadata": {
        "colab": {
          "base_uri": "https://localhost:8080/"
        },
        "id": "leo0FebnVad2",
        "outputId": "be685ccb-e07e-4bd0-a46d-010368ddf360"
      },
      "execution_count": 10,
      "outputs": [
        {
          "output_type": "stream",
          "name": "stdout",
          "text": [
            "Length of IT_companies: 7\n",
            "Length of age list: 8\n",
            "Length of age set: 5\n"
          ]
        }
      ]
    }
  ]
}